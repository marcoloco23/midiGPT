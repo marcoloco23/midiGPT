{
 "cells": [
  {
   "cell_type": "code",
   "execution_count": 3,
   "metadata": {},
   "outputs": [],
   "source": [
    "from midiutil import MIDIFile\n",
    "\n",
    "\n",
    "def generate_midi(midi_data, filename):\n",
    "    # Create a single track MIDI file\n",
    "    midi = MIDIFile(1)\n",
    "\n",
    "    # Track, channel, pitch, time, duration, volume\n",
    "    for note, start_time, duration in midi_data:\n",
    "        pitch = note_name_to_midi(note)\n",
    "        midi.addNote(0, 0, pitch, start_time, duration, 100)\n",
    "\n",
    "    # Write to file\n",
    "    with open(filename, 'wb') as f:\n",
    "        midi.writeFile(f)\n",
    "\n",
    "def note_name_to_midi(note):\n",
    "    # Define the note dictionary\n",
    "    note_to_midi = {\n",
    "        'C' : 0,\n",
    "        'C#' : 1, 'Db' : 1,\n",
    "        'D' : 2,\n",
    "        'D#' : 3, 'Eb' : 3,\n",
    "        'E' : 4,\n",
    "        'F' : 5,\n",
    "        'F#' : 6, 'Gb' : 6,\n",
    "        'G' : 7,\n",
    "        'G#' : 8, 'Ab' : 8,\n",
    "        'A' : 9,\n",
    "        'A#' : 10, 'Bb' : 10,\n",
    "        'B' : 11\n",
    "    }\n",
    "\n",
    "    # Split the note into pitch and octave\n",
    "    if len(note) == 3: # Means it includes a sharp, e.g. \"C#4\"\n",
    "        pitch, octave = note[0:2], note[2]\n",
    "    else:\n",
    "        pitch, octave = note[0], note[1]\n",
    "    \n",
    "    # Calculate the MIDI note number\n",
    "    midi_num = note_to_midi[pitch] + (int(octave) + 1) * 12\n",
    "\n",
    "    return midi_num"
   ]
  },
  {
   "cell_type": "code",
   "execution_count": 19,
   "metadata": {},
   "outputs": [],
   "source": [
    "midi_data_bassline = [\n",
    "    # Bar 1\n",
    "    ('D3', 0.75, 0.25), ('A2', 1.25, 0.25), ('F3', 1.75, 0.25), ('A2', 2.25, 0.75),\n",
    "    # Bar 2\n",
    "    ('D3', 3, 0.25), ('F2', 3.5, 0.5), ('A2', 4.25, 0.75),\n",
    "    # Bar 3\n",
    "    ('D3', 5, 0.25), ('A2', 5.5, 0.5), ('F3', 6, 0.5), ('A2', 6.75, 0.25),\n",
    "    # Bar 4\n",
    "    ('D3', 7.25, 0.25), ('F2', 7.75, 0.25), ('A2', 8, 0.5), ('D2', 8.75, 0.25)\n",
    "]\n",
    "\n",
    "midi_data_synth_lead = [\n",
    "    # Bar 1\n",
    "    ('A4', 0, 0.5), ('D5', 0.5, 0.5), ('F5', 1.5, 0.5), ('D5', 2.5, 0.25), ('A4', 3.5, 0.5),\n",
    "    # Bar 2\n",
    "    ('A4', 4, 0.5), ('D5', 4.75, 0.25), ('F5', 5.5, 0.5), ('D5', 6.5, 0.5), ('A4', 7.5, 0.5),\n",
    "    # Bar 3\n",
    "    ('F5', 8, 0.5), ('A4', 8.5, 0.5), ('D5', 9.5, 0.5), ('A4', 10.5, 0.5), ('F5', 11.5, 0.5),\n",
    "    # Bar 4\n",
    "    ('D5', 12, 0.5), ('F5', 12.5, 0.5), ('A4', 13.5, 0.5), ('D5', 14.5, 0.5), ('F5', 15.5, 0.5)\n",
    "]\n",
    "\n",
    "midi_data_chords = [\n",
    "    # Bar 1\n",
    "    ('D3', 0, 4), ('F3', 0, 4), ('A3', 0, 4),  # Dm\n",
    "    # Bar 2\n",
    "    ('C3', 4, 4), ('E3', 4, 4), ('G3', 4, 4),  # C Major\n",
    "    # Bar 3\n",
    "    ('B2', 8, 4), ('D3', 8, 4), ('F3', 8, 4),  # Bb Major\n",
    "    # Bar 4\n",
    "    ('A2', 12, 4), ('C3', 12, 4), ('E3', 12, 4)  # A minor\n",
    "]\n",
    "\n"
   ]
  },
  {
   "cell_type": "code",
   "execution_count": 17,
   "metadata": {},
   "outputs": [],
   "source": [
    "generate_midi(midi_data_bassline, 'midi/bass.mid')"
   ]
  },
  {
   "cell_type": "code",
   "execution_count": 18,
   "metadata": {},
   "outputs": [],
   "source": [
    "generate_midi(midi_data_synth_lead, 'midi/synth_lead.mid')"
   ]
  },
  {
   "cell_type": "code",
   "execution_count": 20,
   "metadata": {},
   "outputs": [],
   "source": [
    "generate_midi(midi_data_chords, 'midi/chords.mid')"
   ]
  },
  {
   "cell_type": "code",
   "execution_count": null,
   "metadata": {},
   "outputs": [],
   "source": []
  }
 ],
 "metadata": {
  "kernelspec": {
   "display_name": "main",
   "language": "python",
   "name": "python3"
  },
  "language_info": {
   "codemirror_mode": {
    "name": "ipython",
    "version": 3
   },
   "file_extension": ".py",
   "mimetype": "text/x-python",
   "name": "python",
   "nbconvert_exporter": "python",
   "pygments_lexer": "ipython3",
   "version": "3.9.12"
  },
  "orig_nbformat": 4
 },
 "nbformat": 4,
 "nbformat_minor": 2
}
